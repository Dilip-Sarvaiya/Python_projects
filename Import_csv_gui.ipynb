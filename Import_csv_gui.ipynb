{
 "cells": [
  {
   "cell_type": "code",
   "execution_count": 1,
   "metadata": {},
   "outputs": [
    {
     "name": "stdout",
     "output_type": "stream",
     "text": [
      "       Responder_id                                LanguagesWorkedWith\n",
      "0                 1                    HTML/CSS;Java;JavaScript;Python\n",
      "1                 2                                C++;HTML/CSS;Python\n",
      "2                 3                                           HTML/CSS\n",
      "3                 4                                C;C++;C#;Python;SQL\n",
      "4                 5        C++;HTML/CSS;Java;JavaScript;Python;SQL;VBA\n",
      "...             ...                                                ...\n",
      "87564         88182                           HTML/CSS;Java;JavaScript\n",
      "87565         88212                         HTML/CSS;JavaScript;Python\n",
      "87566         88282  Bash/Shell/PowerShell;Go;HTML/CSS;JavaScript;W...\n",
      "87567         88377                      HTML/CSS;JavaScript;Other(s):\n",
      "87568         88863  Bash/Shell/PowerShell;HTML/CSS;Java;JavaScript...\n",
      "\n",
      "[87569 rows x 2 columns]\n"
     ]
    }
   ],
   "source": [
    "import tkinter as tk\n",
    "from tkinter import filedialog\n",
    "import pandas as pd\n",
    "\n",
    "root=tk.Tk()\n",
    "canvas1=tk.Canvas(root, width = 300, height=308, bg ='lightsteelblue2', relief = 'raised')\n",
    "canvas1.pack()\n",
    "\n",
    "def getCSV ():\n",
    "    global  df   \n",
    "    import_file_path=filedialog.askopenfilename()\n",
    "    df=pd.read_csv(import_file_path)\n",
    "    print(df)\n",
    "    \n",
    "browseButton_CSV=tk.Button( text = \"      Import CSV File       \",\n",
    "                        command=getCSV, bg='green',fg='white',font=('helvetica', 12, 'bold'))\n",
    "canvas1.create_window(158,150,window=browseButton_CSV)\n",
    "root.mainloop()"
   ]
  },
  {
   "cell_type": "code",
   "execution_count": null,
   "metadata": {},
   "outputs": [],
   "source": []
  }
 ],
 "metadata": {
  "kernelspec": {
   "display_name": "Python 3",
   "language": "python",
   "name": "python3"
  },
  "language_info": {
   "codemirror_mode": {
    "name": "ipython",
    "version": 3
   },
   "file_extension": ".py",
   "mimetype": "text/x-python",
   "name": "python",
   "nbconvert_exporter": "python",
   "pygments_lexer": "ipython3",
   "version": "3.8.4"
  }
 },
 "nbformat": 4,
 "nbformat_minor": 4
}
